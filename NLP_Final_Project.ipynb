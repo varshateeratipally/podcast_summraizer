{
  "nbformat": 4,
  "nbformat_minor": 0,
  "metadata": {
    "colab": {
      "provenance": []
    },
    "kernelspec": {
      "name": "python3",
      "display_name": "Python 3"
    },
    "language_info": {
      "name": "python"
    }
  },
  "cells": [
    {
      "cell_type": "code",
      "execution_count": null,
      "metadata": {
        "colab": {
          "base_uri": "https://localhost:8080/"
        },
        "id": "yLCjUtgRLNpW",
        "outputId": "0ca40506-a6d1-4ac2-a7b6-44950459cc92"
      },
      "outputs": [
        {
          "output_type": "stream",
          "name": "stdout",
          "text": [
            "Requirement already satisfied: SpeechRecognition in /usr/local/lib/python3.10/dist-packages (3.10.4)\n",
            "Requirement already satisfied: requests>=2.26.0 in /usr/local/lib/python3.10/dist-packages (from SpeechRecognition) (2.31.0)\n",
            "Requirement already satisfied: typing-extensions in /usr/local/lib/python3.10/dist-packages (from SpeechRecognition) (4.11.0)\n",
            "Requirement already satisfied: charset-normalizer<4,>=2 in /usr/local/lib/python3.10/dist-packages (from requests>=2.26.0->SpeechRecognition) (3.3.2)\n",
            "Requirement already satisfied: idna<4,>=2.5 in /usr/local/lib/python3.10/dist-packages (from requests>=2.26.0->SpeechRecognition) (3.7)\n",
            "Requirement already satisfied: urllib3<3,>=1.21.1 in /usr/local/lib/python3.10/dist-packages (from requests>=2.26.0->SpeechRecognition) (2.0.7)\n",
            "Requirement already satisfied: certifi>=2017.4.17 in /usr/local/lib/python3.10/dist-packages (from requests>=2.26.0->SpeechRecognition) (2024.2.2)\n",
            "Requirement already satisfied: spacy in /usr/local/lib/python3.10/dist-packages (3.7.4)\n",
            "Requirement already satisfied: spacy-legacy<3.1.0,>=3.0.11 in /usr/local/lib/python3.10/dist-packages (from spacy) (3.0.12)\n",
            "Requirement already satisfied: spacy-loggers<2.0.0,>=1.0.0 in /usr/local/lib/python3.10/dist-packages (from spacy) (1.0.5)\n",
            "Requirement already satisfied: murmurhash<1.1.0,>=0.28.0 in /usr/local/lib/python3.10/dist-packages (from spacy) (1.0.10)\n",
            "Requirement already satisfied: cymem<2.1.0,>=2.0.2 in /usr/local/lib/python3.10/dist-packages (from spacy) (2.0.8)\n",
            "Requirement already satisfied: preshed<3.1.0,>=3.0.2 in /usr/local/lib/python3.10/dist-packages (from spacy) (3.0.9)\n",
            "Requirement already satisfied: thinc<8.3.0,>=8.2.2 in /usr/local/lib/python3.10/dist-packages (from spacy) (8.2.3)\n",
            "Requirement already satisfied: wasabi<1.2.0,>=0.9.1 in /usr/local/lib/python3.10/dist-packages (from spacy) (1.1.2)\n",
            "Requirement already satisfied: srsly<3.0.0,>=2.4.3 in /usr/local/lib/python3.10/dist-packages (from spacy) (2.4.8)\n",
            "Requirement already satisfied: catalogue<2.1.0,>=2.0.6 in /usr/local/lib/python3.10/dist-packages (from spacy) (2.0.10)\n",
            "Requirement already satisfied: weasel<0.4.0,>=0.1.0 in /usr/local/lib/python3.10/dist-packages (from spacy) (0.3.4)\n",
            "Requirement already satisfied: typer<0.10.0,>=0.3.0 in /usr/local/lib/python3.10/dist-packages (from spacy) (0.9.4)\n",
            "Requirement already satisfied: smart-open<7.0.0,>=5.2.1 in /usr/local/lib/python3.10/dist-packages (from spacy) (6.4.0)\n",
            "Requirement already satisfied: tqdm<5.0.0,>=4.38.0 in /usr/local/lib/python3.10/dist-packages (from spacy) (4.66.4)\n",
            "Requirement already satisfied: requests<3.0.0,>=2.13.0 in /usr/local/lib/python3.10/dist-packages (from spacy) (2.31.0)\n",
            "Requirement already satisfied: pydantic!=1.8,!=1.8.1,<3.0.0,>=1.7.4 in /usr/local/lib/python3.10/dist-packages (from spacy) (2.7.1)\n",
            "Requirement already satisfied: jinja2 in /usr/local/lib/python3.10/dist-packages (from spacy) (3.1.4)\n",
            "Requirement already satisfied: setuptools in /usr/local/lib/python3.10/dist-packages (from spacy) (67.7.2)\n",
            "Requirement already satisfied: packaging>=20.0 in /usr/local/lib/python3.10/dist-packages (from spacy) (24.0)\n",
            "Requirement already satisfied: langcodes<4.0.0,>=3.2.0 in /usr/local/lib/python3.10/dist-packages (from spacy) (3.4.0)\n",
            "Requirement already satisfied: numpy>=1.19.0 in /usr/local/lib/python3.10/dist-packages (from spacy) (1.25.2)\n",
            "Requirement already satisfied: language-data>=1.2 in /usr/local/lib/python3.10/dist-packages (from langcodes<4.0.0,>=3.2.0->spacy) (1.2.0)\n",
            "Requirement already satisfied: annotated-types>=0.4.0 in /usr/local/lib/python3.10/dist-packages (from pydantic!=1.8,!=1.8.1,<3.0.0,>=1.7.4->spacy) (0.7.0)\n",
            "Requirement already satisfied: pydantic-core==2.18.2 in /usr/local/lib/python3.10/dist-packages (from pydantic!=1.8,!=1.8.1,<3.0.0,>=1.7.4->spacy) (2.18.2)\n",
            "Requirement already satisfied: typing-extensions>=4.6.1 in /usr/local/lib/python3.10/dist-packages (from pydantic!=1.8,!=1.8.1,<3.0.0,>=1.7.4->spacy) (4.11.0)\n",
            "Requirement already satisfied: charset-normalizer<4,>=2 in /usr/local/lib/python3.10/dist-packages (from requests<3.0.0,>=2.13.0->spacy) (3.3.2)\n",
            "Requirement already satisfied: idna<4,>=2.5 in /usr/local/lib/python3.10/dist-packages (from requests<3.0.0,>=2.13.0->spacy) (3.7)\n",
            "Requirement already satisfied: urllib3<3,>=1.21.1 in /usr/local/lib/python3.10/dist-packages (from requests<3.0.0,>=2.13.0->spacy) (2.0.7)\n",
            "Requirement already satisfied: certifi>=2017.4.17 in /usr/local/lib/python3.10/dist-packages (from requests<3.0.0,>=2.13.0->spacy) (2024.2.2)\n",
            "Requirement already satisfied: blis<0.8.0,>=0.7.8 in /usr/local/lib/python3.10/dist-packages (from thinc<8.3.0,>=8.2.2->spacy) (0.7.11)\n",
            "Requirement already satisfied: confection<1.0.0,>=0.0.1 in /usr/local/lib/python3.10/dist-packages (from thinc<8.3.0,>=8.2.2->spacy) (0.1.4)\n",
            "Requirement already satisfied: click<9.0.0,>=7.1.1 in /usr/local/lib/python3.10/dist-packages (from typer<0.10.0,>=0.3.0->spacy) (8.1.7)\n",
            "Requirement already satisfied: cloudpathlib<0.17.0,>=0.7.0 in /usr/local/lib/python3.10/dist-packages (from weasel<0.4.0,>=0.1.0->spacy) (0.16.0)\n",
            "Requirement already satisfied: MarkupSafe>=2.0 in /usr/local/lib/python3.10/dist-packages (from jinja2->spacy) (2.1.5)\n",
            "Requirement already satisfied: marisa-trie>=0.7.7 in /usr/local/lib/python3.10/dist-packages (from language-data>=1.2->langcodes<4.0.0,>=3.2.0->spacy) (1.1.1)\n"
          ]
        }
      ],
      "source": [
        "!pip install SpeechRecognition\n",
        "!pip install spacy"
      ]
    },
    {
      "cell_type": "code",
      "source": [
        "import spacy\n",
        "from spacy.lang.en.stop_words import STOP_WORDS\n",
        "from string import punctuation\n",
        "from heapq import nlargest"
      ],
      "metadata": {
        "id": "htBJ5WB7DUX7"
      },
      "execution_count": null,
      "outputs": []
    },
    {
      "cell_type": "markdown",
      "source": [
        "# Audio to Text\n",
        "\n"
      ],
      "metadata": {
        "id": "VyNJIEsb8YTf"
      }
    },
    {
      "cell_type": "code",
      "source": [
        "import speech_recognition as sr\n",
        "\n",
        "def audio_to_text(audio_file_path):\n",
        "    # Initialize the recognizer\n",
        "    recognizer = sr.Recognizer()\n",
        "\n",
        "    # Load the audio file\n",
        "    with sr.AudioFile(audio_file_path) as source:\n",
        "        # Adjust for ambient noise\n",
        "        recognizer.adjust_for_ambient_noise(source)\n",
        "\n",
        "        # Record the audio\n",
        "        audio = recognizer.record(source)\n",
        "\n",
        "    try:\n",
        "        # Recognize speech using Google Web Speech API\n",
        "        text = recognizer.recognize_google(audio)\n",
        "        return text\n",
        "    except sr.UnknownValueError:\n",
        "        print(\"Google Web Speech API could not understand audio\")\n",
        "    except sr.RequestError as e:\n",
        "        print(f\"Could not request results from Google Web Speech API; {e}\")\n",
        "\n",
        "# Specify the path to your audio file\n",
        "audio_file_path = \"/content/rpp16.wav\"\n",
        "\n",
        "\n",
        "# Convert audio to text\n",
        "result = audio_to_text(audio_file_path)\n",
        "\n",
        "# Print the result\n",
        "print(\"Text from audio:\", result)\n"
      ],
      "metadata": {
        "id": "CiuqesAILSps",
        "collapsed": true
      },
      "execution_count": null,
      "outputs": []
    },
    {
      "cell_type": "code",
      "source": [
        "!pip install pydub"
      ],
      "metadata": {
        "id": "zLTCayZ2Msgp",
        "colab": {
          "base_uri": "https://localhost:8080/"
        },
        "outputId": "260c19ab-b059-4986-da11-c3397e4eadbf"
      },
      "execution_count": null,
      "outputs": [
        {
          "output_type": "stream",
          "name": "stdout",
          "text": [
            "Collecting pydub\n",
            "  Downloading pydub-0.25.1-py2.py3-none-any.whl (32 kB)\n",
            "Installing collected packages: pydub\n",
            "Successfully installed pydub-0.25.1\n"
          ]
        }
      ]
    },
    {
      "cell_type": "markdown",
      "source": [
        "# Fragmentation\n"
      ],
      "metadata": {
        "id": "3dJNcLNlq6Ad"
      }
    },
    {
      "cell_type": "code",
      "source": [
        "from pydub import AudioSegment\n",
        "import os\n",
        "\n",
        "def split_audio(input_file, output_folder, segment_duration=15):\n",
        "    # Create output folder if it doesn't exist\n",
        "    if not os.path.exists(output_folder):\n",
        "        os.makedirs(output_folder)\n",
        "\n",
        "    audio = AudioSegment.from_wav(input_file)\n",
        "    audio_duration = len(audio)\n",
        "\n",
        "    for start_time in range(0, audio_duration, segment_duration * 1000):\n",
        "        end_time = min(start_time + segment_duration * 1000, audio_duration)\n",
        "        segment = audio[start_time:end_time]\n",
        "        segment_path = os.path.join(output_folder, f\"segment_{start_time//1000}-{end_time//1000}.wav\")\n",
        "        segment.export(segment_path, format=\"wav\")\n",
        "\n",
        "# Specify the path to your large audio file\n",
        "large_audio_file_path = \"/content/sample_data/output\"\n",
        "\n",
        "# Specify the output folder for segments\n",
        "output_folder = \"/content/output\"\n",
        "\n",
        "# Split the audio file into segments\n",
        "split_audio(large_audio_file_path, output_folder)\n"
      ],
      "metadata": {
        "id": "pIjwvXKoMzn7"
      },
      "execution_count": null,
      "outputs": []
    },
    {
      "cell_type": "code",
      "source": [
        "\n",
        "from pydub import AudioSegment\n",
        "import speech_recognition as sr\n",
        "\n",
        "def transcribe_audio_segment(segment_file):\n",
        "    recognizer = sr.Recognizer()\n",
        "\n",
        "    with sr.AudioFile(segment_file) as source:\n",
        "        audio_data = recognizer.record(source)\n",
        "\n",
        "    try:\n",
        "        text = recognizer.recognize_google(audio_data)\n",
        "        return text\n",
        "    except sr.UnknownValueError:\n",
        "        print(f\"Speech recognition could not understand audio: {segment_file}\")\n",
        "        return \"\"\n",
        "    except sr.RequestError as e:\n",
        "        print(f\"Speech recognition request error: {e}\")\n",
        "        return \"\"\n",
        "\n",
        "def process_audio_file(input_audio_file, segment_duration=60):\n",
        "    audio = AudioSegment.from_wav(input_audio_file)\n",
        "    audio_duration = len(audio)\n",
        "\n",
        "    segments = []\n",
        "    for start_time in range(0, audio_duration, segment_duration * 1000):\n",
        "        end_time = min(start_time + segment_duration * 1000, audio_duration)\n",
        "        segment = audio[start_time:end_time]\n",
        "\n",
        "        # Export segment to temporary WAV file\n",
        "        segment_file = f\"segment_{start_time//1000}-{end_time//1000}.wav\"\n",
        "        segment.export(segment_file, format=\"wav\")\n",
        "\n",
        "        # Transcribe the audio segment\n",
        "        text = transcribe_audio_segment(segment_file)\n",
        "        segments.append(text)\n",
        "\n",
        "        # Clean up temporary segment file\n",
        "        os.remove(segment_file)\n",
        "\n",
        "    return segments\n",
        "\n",
        "# Specify the path to your large audio file\n",
        "large_audio_file_path = \"/content/rpp16.wav\"\n",
        "\n",
        "# Process the audio file in segments (60-second segments by default)\n",
        "transcribed_segments = process_audio_file(large_audio_file_path)\n",
        "\n",
        "# Print the transcribed text for each segment\n",
        "string = \"\"\n",
        "for i, segment_text in enumerate(transcribed_segments, start=1):\n",
        "    string+= segment_text\n",
        "\n",
        "    print(f\"Segment {i} Transcription: {segment_text}\")"
      ],
      "metadata": {
        "id": "5KTVQV2h70C2",
        "colab": {
          "base_uri": "https://localhost:8080/"
        },
        "outputId": "1be67988-c3c8-498d-e223-83b6445c58ff"
      },
      "execution_count": null,
      "outputs": [
        {
          "output_type": "stream",
          "name": "stdout",
          "text": [
            "Segment 1 Transcription: hello everyone and welcome this is the rapid Planet podcast today is February 6th 2012 we're going to be talking about the latest and greatest technology news from the past 2 weeks but this episode is a little bit different because well we got new Mike's people that's right brand new podcasting Mike's in the house you can definitely hear a difference of how much better these sound so really excited to get this and let's try them out let's get to some tech news\n",
            "Segment 2 Transcription: and we're ready to talk about some tech news so Microsoft now it's recently that it's going to be getting rid of its developer conference and my Xbox and it's kind of interesting because they just recently announced that they were pulling out of Cs 2012 says that they're going to be molding some of the functions of Windows Phone Internet Explorer HTML5\n",
            "Segment 3 Transcription: Silverlight technology stuff like that into an upcoming developer conference that they are going to be holding later this year so that's still going to be happening I guess the the conference schedule for Microsoft is just getting a little bit hectic and they wanted to confine all those events into less events so that's cool so now we've got some unfortunate moves in shake-ups in the tech industry John Rubenstein Rubenstein Rubenstein has who is the former Palm CEO was up until now we're not sure if he planned to leave open to leave as soon as his contract was up but effective immediately he's gone so are you with the father of us has left HP so that's not a good thing but at least HP is\n",
            "Segment 4 Transcription: play toasting my boss which we will get you in a minute but on the topic of movers and shakers in the tech industry but not that type of motion shakers more like movers and Transitions and exhibitors cuz they're leaving Rim Research In Motion the guys behind blackberry jam the silly and Mike Lazarus have stepped down making thorsten Heins the cosio the new CEO so that's a really big move over at rim and things are just not looking good for them everything is everyone's leaving they're not selling very many devices and they've lost a lot of respect and it's kind of unfortunate and to think that they were one of the top brands just couple years ago maybe even less than that but it's crazy how fast things change I guess but moving on I told\n",
            "Segment 5 Transcription: do I would mention webos going open source so let's do that and yep that's right folks HP has announced open webos they're calling it open with us I guess version of 1.0 they're going to complete the open-sourcing of the platform by September 2012 this year and Anya 1.0 and 2.0 available today open source if you don't know is it's kind of like the framework behind us so they're definitely giving developers tools here so hopefully we see some cool stuff come out of this without the open store hours to other devices so definitely make it easy and we hope to see some really cool projects come out of this next up Nintendo announces the Nintendo network probably wondering is this like the Nintendo Wi-Fi connection well sort of Let Me Explain there's no word yet on Netflix\n",
            "Segment 6 Transcription: the friend codes or Wi-Fi connection or anything like that but I assume they're getting rid of the Wi-Fi connection if this new network is coming basically it's new online Network for the Nintendo 3DS and eventually the Wii U when it launches later this year in 2012 and it's going to have personal user account which is a big feature something that's been requested by pretty much everybody who's ever used any of Nintendo's online services and so probably bring it up a little bit closer to being on par with PSN and Xbox Live and it's supposed to have or at least Nintendo says they're thinking about offering a games by digital download in the service like Xbox Live and PSN and some various other features so that's something to look forward to if you're a fan or owner of Nintendo device and just a few minutes ago we talked about moving and shaking of\n",
            "Segment 7 Transcription: I just wanted to mention quick that Sony actually has a new president kazuo hirai is the new CEO effective April 1st it's not an April Fool's joke it's actually happening and Stringer the old CEO is moving to chairman of the board so that's a big shake-up for Sony and hopefully her ride turns things around I mean he he's partially responsible for the recent months and hopefully he continues that he's been doing pretty well lately so hopefully we see that continued best of luck we're not going to spend very much time on this next thing since I'm not a huge number person but Facebook has filed for IPO IPO standing for initial public offering and what that means is Facebook is trying to become a publicly traded company that's going to be trading under the stock symbol FB and\n",
            "Segment 8 Transcription: open the phrase something like 5 billion dollars in the process of all this so that's good next up the next version of Microsoft Office office office 1500 the technical preview program stage which means that Microsoft is allowing a small amount of third-party customers to test and Report bugs and stuff from Office 15 under a non-disclosure agreement to weed out all the problems in it available yet but according to the verge a public beta Boulevard this summer and on the topic of Microsoft the recently released for Windows is going to open a lot of possibilities using the Kinect sensor with computers PCS mainly since it's PC only and there's no reports from the daily that point to\n",
            "Segment 9 Transcription: is it possibly incorporating connect sensors into portable devices like laptops they got to go hands on with some prototype Microsoft devices running some form of Windows 8 apparently and that's pretty much what they were they had a Kinect sensor above the screen and some LEDs blow it and pretty much what you would imagine connect in a laptop look like but the report continues on to say that will likely see Microsoft push the new portable form of speculation and nothing has been confirmed yet but we can definitely help because that would be really cool switching sides from Microsoft to Apple some new rumors are saying that Steve Jobs might have been interested in Lake Charles panoptic camera if you're not familiar with that camera currently prototype\n",
            "Segment 10 Transcription: you can shoot the photo and then focus it on the camera or on the software on the computer and it's really cool stuff but apparently according to a new book called Inside Apple Steve Jobs met with the CEO of Lytro and they discussed how they could work together in the future Apple hasn't confirmed anything yet Steve Jobs but haven't released any other details yet and it's that's about all we know but it's a really interesting idea because Lightroom on an iPhone would be the coolest thing ever I think and even if they don't put on iPhone since it's still kind of big you probably fit that and iPhone I was reading some people's opinions and they said that what if you could put iOS on electric device\n",
            "Segment 11 Transcription: that's because current camera UI is pretty crappy and that actually makes a ton of sense that would be really cool and I think not a lot of people would be expecting that so that could really be a way to gain some extra user base I should say there so I guess we'll wait and see what happens but apple and Lightroom interesting combination back to Microsoft I've got some new details about the next iteration of Windows Phone the next well technically the next song Thank you like the size of mango is called Apollo and that's expected in late this year late 2012 and there's going to be some really cool stuff according to Elite demo video for Apollo featuring Microsoft's Joe belfiore\n",
            "Segment 12 Transcription: are set in stone yet but he mentions Hardware like multi-core processors support forest green resolutions full support from micro SD cards and support for NFC so that's really cool stuff so we know Microsoft is going to be adding some more current technology into their phones but should definitely help them out a bit and Synergy between the PC phone and tablet Windows 8 experience was also talked about and that's really cool to be able to have all that running together about Skype integration down to the OS level and I heard something about that being rumored for Mobile World Congress this year in actual app\n",
            "Segment 13 Transcription: add down to heart to OS integration is what they're talking about in Apollo other than that there's also talked about about BitLocker encryption support similar to what you find on like Windows Enterprise on the PC and that's a really big step up that's like that's like Blackberry encryption I'm pretty sure so Blackberry again not doing too good Windows Phone features pretty bright and I don't know about you but I'm pretty excited to see what Apollo brings so good luck to you Microsoft we'll see what happens that's about all the stories we have for today sorry if this show is a little bit shorter than usual we're almost at 13 minutes here but we didn't really have a lot of time to record tonight and it's getting pretty late here in the night so we're going to wrap it up but if you haven't seen the banners or the tweets and stuff we are moving to a video podcast format in April\n",
            "Segment 14 Transcription: spell 29th to the exact on YouTube youtube.com slash rapid Planet podcast although this website wordpress.com is still going to be in use all of our shows will be over here I will still be on iTunes as a video podcast and we've got some really cool stuff and it works for that we just post a preview video yesterday was kind of what the video form is going to look at it's unlisted you have to get the link for my Twitter feed at rapid planet show but if you do let us know what you think we want to know what you think of the new format because we have too much to change so we're getting feedback now but that's coming in 2 months so that's really cool today I didn't have a lot of time and we didn't have a lot of stories but I think we got the gist of the major stories that happened in the past 2 weeks you can never cover everything and I can't do this on the fly right before I'm off to go do something else so\n",
            "Segment 15 Transcription: if I missed something I apologize let me know and I'll cover it in the next one\n"
          ]
        }
      ]
    },
    {
      "cell_type": "code",
      "source": [
        "print(string)"
      ],
      "metadata": {
        "colab": {
          "base_uri": "https://localhost:8080/"
        },
        "id": "Ub81BW5FBPMS",
        "outputId": "a12b9637-58f3-4c81-fcd6-fc9c12918338"
      },
      "execution_count": null,
      "outputs": [
        {
          "output_type": "stream",
          "name": "stdout",
          "text": [
            "hello everyone and welcome this is the rapid Planet podcast today is February 6th 2012 we're going to be talking about the latest and greatest technology news from the past 2 weeks but this episode is a little bit different because well we got new Mike's people that's right brand new podcasting Mike's in the house you can definitely hear a difference of how much better these sound so really excited to get this and let's try them out let's get to some tech newsand we're ready to talk about some tech news so Microsoft now it's recently that it's going to be getting rid of its developer conference and my Xbox and it's kind of interesting because they just recently announced that they were pulling out of Cs 2012 says that they're going to be molding some of the functions of Windows Phone Internet Explorer HTML5Silverlight technology stuff like that into an upcoming developer conference that they are going to be holding later this year so that's still going to be happening I guess the the conference schedule for Microsoft is just getting a little bit hectic and they wanted to confine all those events into less events so that's cool so now we've got some unfortunate moves in shake-ups in the tech industry John Rubenstein Rubenstein Rubenstein has who is the former Palm CEO was up until now we're not sure if he planned to leave open to leave as soon as his contract was up but effective immediately he's gone so are you with the father of us has left HP so that's not a good thing but at least HP isplay toasting my boss which we will get you in a minute but on the topic of movers and shakers in the tech industry but not that type of motion shakers more like movers and Transitions and exhibitors cuz they're leaving Rim Research In Motion the guys behind blackberry jam the silly and Mike Lazarus have stepped down making thorsten Heins the cosio the new CEO so that's a really big move over at rim and things are just not looking good for them everything is everyone's leaving they're not selling very many devices and they've lost a lot of respect and it's kind of unfortunate and to think that they were one of the top brands just couple years ago maybe even less than that but it's crazy how fast things change I guess but moving on I tolddo I would mention webos going open source so let's do that and yep that's right folks HP has announced open webos they're calling it open with us I guess version of 1.0 they're going to complete the open-sourcing of the platform by September 2012 this year and Anya 1.0 and 2.0 available today open source if you don't know is it's kind of like the framework behind us so they're definitely giving developers tools here so hopefully we see some cool stuff come out of this without the open store hours to other devices so definitely make it easy and we hope to see some really cool projects come out of this next up Nintendo announces the Nintendo network probably wondering is this like the Nintendo Wi-Fi connection well sort of Let Me Explain there's no word yet on Netflixthe friend codes or Wi-Fi connection or anything like that but I assume they're getting rid of the Wi-Fi connection if this new network is coming basically it's new online Network for the Nintendo 3DS and eventually the Wii U when it launches later this year in 2012 and it's going to have personal user account which is a big feature something that's been requested by pretty much everybody who's ever used any of Nintendo's online services and so probably bring it up a little bit closer to being on par with PSN and Xbox Live and it's supposed to have or at least Nintendo says they're thinking about offering a games by digital download in the service like Xbox Live and PSN and some various other features so that's something to look forward to if you're a fan or owner of Nintendo device and just a few minutes ago we talked about moving and shaking ofI just wanted to mention quick that Sony actually has a new president kazuo hirai is the new CEO effective April 1st it's not an April Fool's joke it's actually happening and Stringer the old CEO is moving to chairman of the board so that's a big shake-up for Sony and hopefully her ride turns things around I mean he he's partially responsible for the recent months and hopefully he continues that he's been doing pretty well lately so hopefully we see that continued best of luck we're not going to spend very much time on this next thing since I'm not a huge number person but Facebook has filed for IPO IPO standing for initial public offering and what that means is Facebook is trying to become a publicly traded company that's going to be trading under the stock symbol FB andopen the phrase something like 5 billion dollars in the process of all this so that's good next up the next version of Microsoft Office office office 1500 the technical preview program stage which means that Microsoft is allowing a small amount of third-party customers to test and Report bugs and stuff from Office 15 under a non-disclosure agreement to weed out all the problems in it available yet but according to the verge a public beta Boulevard this summer and on the topic of Microsoft the recently released for Windows is going to open a lot of possibilities using the Kinect sensor with computers PCS mainly since it's PC only and there's no reports from the daily that point tois it possibly incorporating connect sensors into portable devices like laptops they got to go hands on with some prototype Microsoft devices running some form of Windows 8 apparently and that's pretty much what they were they had a Kinect sensor above the screen and some LEDs blow it and pretty much what you would imagine connect in a laptop look like but the report continues on to say that will likely see Microsoft push the new portable form of speculation and nothing has been confirmed yet but we can definitely help because that would be really cool switching sides from Microsoft to Apple some new rumors are saying that Steve Jobs might have been interested in Lake Charles panoptic camera if you're not familiar with that camera currently prototypeyou can shoot the photo and then focus it on the camera or on the software on the computer and it's really cool stuff but apparently according to a new book called Inside Apple Steve Jobs met with the CEO of Lytro and they discussed how they could work together in the future Apple hasn't confirmed anything yet Steve Jobs but haven't released any other details yet and it's that's about all we know but it's a really interesting idea because Lightroom on an iPhone would be the coolest thing ever I think and even if they don't put on iPhone since it's still kind of big you probably fit that and iPhone I was reading some people's opinions and they said that what if you could put iOS on electric devicethat's because current camera UI is pretty crappy and that actually makes a ton of sense that would be really cool and I think not a lot of people would be expecting that so that could really be a way to gain some extra user base I should say there so I guess we'll wait and see what happens but apple and Lightroom interesting combination back to Microsoft I've got some new details about the next iteration of Windows Phone the next well technically the next song Thank you like the size of mango is called Apollo and that's expected in late this year late 2012 and there's going to be some really cool stuff according to Elite demo video for Apollo featuring Microsoft's Joe belfioreare set in stone yet but he mentions Hardware like multi-core processors support forest green resolutions full support from micro SD cards and support for NFC so that's really cool stuff so we know Microsoft is going to be adding some more current technology into their phones but should definitely help them out a bit and Synergy between the PC phone and tablet Windows 8 experience was also talked about and that's really cool to be able to have all that running together about Skype integration down to the OS level and I heard something about that being rumored for Mobile World Congress this year in actual appadd down to heart to OS integration is what they're talking about in Apollo other than that there's also talked about about BitLocker encryption support similar to what you find on like Windows Enterprise on the PC and that's a really big step up that's like that's like Blackberry encryption I'm pretty sure so Blackberry again not doing too good Windows Phone features pretty bright and I don't know about you but I'm pretty excited to see what Apollo brings so good luck to you Microsoft we'll see what happens that's about all the stories we have for today sorry if this show is a little bit shorter than usual we're almost at 13 minutes here but we didn't really have a lot of time to record tonight and it's getting pretty late here in the night so we're going to wrap it up but if you haven't seen the banners or the tweets and stuff we are moving to a video podcast format in Aprilspell 29th to the exact on YouTube youtube.com slash rapid Planet podcast although this website wordpress.com is still going to be in use all of our shows will be over here I will still be on iTunes as a video podcast and we've got some really cool stuff and it works for that we just post a preview video yesterday was kind of what the video form is going to look at it's unlisted you have to get the link for my Twitter feed at rapid planet show but if you do let us know what you think we want to know what you think of the new format because we have too much to change so we're getting feedback now but that's coming in 2 months so that's really cool today I didn't have a lot of time and we didn't have a lot of stories but I think we got the gist of the major stories that happened in the past 2 weeks you can never cover everything and I can't do this on the fly right before I'm off to go do something else soif I missed something I apologize let me know and I'll cover it in the next one\n"
          ]
        }
      ]
    },
    {
      "cell_type": "markdown",
      "source": [
        "# Summarisation\n",
        "\n"
      ],
      "metadata": {
        "id": "FawGlhZFq_Ti"
      }
    },
    {
      "cell_type": "code",
      "source": [
        "def summarize(text, per):\n",
        "    nlp = spacy.load('en_core_web_sm')\n",
        "    doc= nlp(text)\n",
        "    tokens=[token.text for token in doc]\n",
        "    word_frequencies={}\n",
        "    for word in doc:\n",
        "        if word.text.lower() not in list(STOP_WORDS):\n",
        "            if word.text.lower() not in punctuation:\n",
        "                if word.text not in word_frequencies.keys():\n",
        "                    word_frequencies[word.text] = 1\n",
        "                else:\n",
        "                    word_frequencies[word.text] += 1\n",
        "    max_frequency=max(word_frequencies.values())\n",
        "    for word in word_frequencies.keys():\n",
        "        word_frequencies[word]=word_frequencies[word]/max_frequency\n",
        "    sentence_tokens= [sent for sent in doc.sents]\n",
        "    sentence_scores = {}\n",
        "    for sent in sentence_tokens:\n",
        "        for word in sent:\n",
        "            if word.text.lower() in word_frequencies.keys():\n",
        "                if sent not in sentence_scores.keys():\n",
        "                    sentence_scores[sent]=word_frequencies[word.text.lower()]\n",
        "                else:\n",
        "                    sentence_scores[sent]+=word_frequencies[word.text.lower()]\n",
        "    select_length=int(len(sentence_tokens)*per)\n",
        "    summary=nlargest(select_length, sentence_scores,key=sentence_scores.get)\n",
        "    final_summary=[word.text for word in summary]\n",
        "    summary=''.join(final_summary)\n",
        "    return summary"
      ],
      "metadata": {
        "id": "CPVGZ9wECzC5"
      },
      "execution_count": null,
      "outputs": []
    },
    {
      "cell_type": "code",
      "source": [
        "summarize(string ,0.1)"
      ],
      "metadata": {
        "colab": {
          "base_uri": "https://localhost:8080/",
          "height": 500
        },
        "id": "hVsiNStaDYJW",
        "outputId": "f9feb3a8-8f73-4a76-8858-be77df607efd"
      },
      "execution_count": null,
      "outputs": [
        {
          "output_type": "execute_result",
          "data": {
            "text/plain": [
              "\"it's not an April Fool's joke it's actually happening and Stringer the old CEO is moving to chairman of the board so that's a big shake-up for Sony and hopefully her ride turns things around I mean he he's partially responsible for the recent months and hopefully he continues that he's been doing pretty well lately so hopefully we see that continued best of luck we're not going to spend very much time on this next thing since I'm not a huge number person but Facebook has filed for IPO IPO standing for initial public offering and what that means is Facebook is trying to become a publicly traded company that's going to be trading under the stock symbol FB andopen the phrase something like 5 billion dollars in the process of all this so that's good next up the next version of Microsoft Office office office 1500 the technical preview program stage which means that Microsoft is allowing a small amount of third-party customers to test and Report bugs and stuff from Office 15 under a non-disclosure agreement to weed out all the problems in it available yetbut according to the verge a public beta Boulevard this summer and on the topic of Microsoft the recently released for Windows is going to open a lot of possibilities using the Kinect sensor with computers PCS mainly since it's PC only and there's no reports from the daily that point tois it possibly incorporating connect sensors into portable devices like laptops they got to go hands on with some prototype Microsoft devices running some form of Windows 8 apparently and that's pretty much what they were they had a Kinect sensor above the screen and some LEDs blow it and pretty much what you would imagine connect in a laptop look like but the report continues on to say that will likely see Microsoft push the new portable form of speculation and nothing has been confirmed yetso we know Microsoft is going to be adding some more current technology into their phones but should definitely help them out a bit and Synergy between the PC phone and tablet Windows 8 experience was also talked about and that's really cool to be able to have all that running together about Skype integration down to the OS level and I heard something about that being rumored for Mobile World Congress this year in actual appadd down to heart to OS integration is what they're talking about in Apollo other than that there's also talked about about BitLocker encryption support similar to what you find on like Windows Enterprise on the PC and that's a really big step up that's like that's like Blackberry encryption I'm pretty surehello everyone and welcome this is the rapid Planet podcast today is February 6th 2012 we're going to be talking about the latest and greatest technology news from the past 2 weeks but this episode is a little bit different because well we got new Mike's people that's right brand new podcasting Mike's in the house you can definitely hear a difference of how much better these sound so really excited to get this and let's try them out let's get to some tech newsand we're ready to talk about some tech news\""
            ],
            "application/vnd.google.colaboratory.intrinsic+json": {
              "type": "string"
            }
          },
          "metadata": {},
          "execution_count": 27
        }
      ]
    },
    {
      "cell_type": "markdown",
      "source": [
        "# Rouge Score(Evaluation)"
      ],
      "metadata": {
        "id": "Q-MojOewrKT_"
      }
    },
    {
      "cell_type": "code",
      "source": [
        "!pip install rouge\n",
        "from rouge import Rouge\n",
        "\n",
        "\n",
        "reference_summary = \"Welcome to the Rapid Planet Podcast! Today is February 6th, 2012, and we have some exciting technology news to cover from the past two weeks. First off, we’re thrilled to announce our new microphones, which have significantly improved our audio quality.Starting with Microsoft, they have announced they will be discontinuing their developer conference and My Xbox event, consolidating these into a larger developer conference later this year. This comes on the heels of Microsoft pulling out of CES 2012. They plan to include Windows Phone, Internet Explorer, HTML5, and Silverlight technologies in the new conference.In unfortunate news, there have been significant shake-ups in the tech industry. John Rubinstein, former CEO of Palm, has left HP. At Research In Motion (RIM), Mike Lazaridis and Jim Balsillie have stepped down, making way for Thorsten Heins as the new CEO. RIM has been struggling with declining sales and market respect.HP has announced that webOS is going open source. They aim to complete this transition by September 2012, providing developers with tools to create new applications and potentially port the OS to other devices.Nintendo has announced the Nintendo Network, a new online service for the 3DS and the upcoming Wii U. This network will feature personal user accounts and possibly allow digital game downloads, bringing it closer to services like PSN and Xbox Live.Sony has named Kazuo Hirai as the new CEO, effective April 1st, with former CEO Howard Stringer moving to chairman of the board. Hirai is known for his success with the PlayStation division, and there is hope he will continue this positive trend for Sony.Facebook has filed for an IPO, aiming to raise around $5 billion as they transition to a publicly traded company under the symbol FBThe next version of Microsoft Office, Office 15, has entered the technical preview program stage. A public beta is expected this summer. Additionally, Microsoft has released a Kinect for Windows SDK, which could lead to Kinect integration in portable devices.There are rumors that Steve Jobs was interested in Lytro’s panoptic camera technology. This camera allows users to refocus photos after they are taken. There’s speculation about integrating Lytro technology with iOS, potentially revolutionizing mobile photography.The next version of Windows Phone, codenamed Apollo, is expected late in 2012. Features mentioned include multi-core processor support, various screen resolutions, microSD support, NFC, and deep integration with Skype. BitLocker encryption support similar to Windows Enterprise on PCs is also anticipated, which would be a significant security enhancement.Finally, the Rapid Planet Podcast will transition to a video format starting April 29th, available on YouTube and iTunes. We recently posted a preview video and are eager to hear feedback on the new format.That’s all for today’s episode. If we missed any major stories, let us know, and we’ll cover them next time. Thank you for tuning in!\"\n",
        "#Initialize ROUGE\n",
        "rouge = Rouge()\n",
        "\n",
        "#Calculate ROUGE scores\n",
        "scores = rouge.get_scores(string , reference_summary)\n",
        "\n",
        "#Print the ROUGE scores\n",
        "print(scores)"
      ],
      "metadata": {
        "colab": {
          "base_uri": "https://localhost:8080/"
        },
        "id": "FHp6ddTEpWpf",
        "outputId": "ddf2e8b0-8782-4967-e354-81b9abf04e58"
      },
      "execution_count": null,
      "outputs": [
        {
          "output_type": "stream",
          "name": "stdout",
          "text": [
            "Requirement already satisfied: rouge in /usr/local/lib/python3.10/dist-packages (1.0.1)\n",
            "Requirement already satisfied: six in /usr/local/lib/python3.10/dist-packages (from rouge) (1.16.0)\n",
            "[{'rouge-1': {'r': 0.3161290322580645, 'p': 0.33676975945017185, 'f': 0.32612312312479763}, 'rouge-2': {'r': 0.0982532751091703, 'p': 0.087890625, 'f': 0.09278350017013524}, 'rouge-l': {'r': 0.25483870967741934, 'p': 0.27147766323024053, 'f': 0.26289516971381593}}]\n"
          ]
        }
      ]
    }
  ]
}